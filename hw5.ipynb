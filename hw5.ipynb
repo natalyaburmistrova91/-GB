{
 "cells": [
  {
   "cell_type": "markdown",
   "metadata": {},
   "source": [
    "Задание 1. Реализовать выпадение рулетки"
   ]
  },
  {
   "cell_type": "markdown",
   "metadata": {},
   "source": [
    "import numpy as np\n"
   ]
  },
  {
   "cell_type": "code",
   "execution_count": 15,
   "metadata": {},
   "outputs": [
    {
     "data": {
      "text/plain": [
       "1"
      ]
     },
     "execution_count": 15,
     "metadata": {},
     "output_type": "execute_result"
    }
   ],
   "source": [
    "np.random.randint(0,5)"
   ]
  },
  {
   "cell_type": "code",
   "execution_count": 17,
   "metadata": {},
   "outputs": [
    {
     "name": "stdout",
     "output_type": "stream",
     "text": [
      "\n",
      "black\n",
      "\n",
      "black\n",
      "\n",
      "red\n",
      "\n",
      "red\n",
      "\n",
      "black\n"
     ]
    }
   ],
   "source": [
    "for i in range(0,5):\n",
    "    a = input()\n",
    "    x = np.random.randint(0,37)\n",
    "    if x == 36:\n",
    "        print('zero')\n",
    "    elif x%2 == 0:\n",
    "        print('red')\n",
    "    else:\n",
    "        print('black')"
   ]
  },
  {
   "cell_type": "markdown",
   "metadata": {},
   "source": [
    "2. Проверить теорему вероятности"
   ]
  },
  {
   "cell_type": "code",
   "execution_count": 44,
   "metadata": {},
   "outputs": [
    {
     "name": "stdout",
     "output_type": "stream",
     "text": [
      "0.9459459459459459\n"
     ]
    }
   ],
   "source": [
    "z = 0\n",
    "r = 0\n",
    "b = 0\n",
    "for i in range(0,37):\n",
    "    x = np.random.randint(0,37)\n",
    "    if x == 36:\n",
    "        z += 1\n",
    "for i in range(0,37):\n",
    "    x = np.random.randint(0,37)\n",
    "    if x%2 == 0 and x != 36:\n",
    "        r += 1\n",
    "for i in range(0,37):\n",
    "    x = np.random.randint(0,37)\n",
    "    if x%2 != 0  and x != 36:\n",
    "        b += 1\n",
    "print((z+r+b)/37)"
   ]
  },
  {
   "cell_type": "markdown",
   "metadata": {},
   "source": [
    "Вероятность стремится к 1, нужно больше экспериментов и будет 1"
   ]
  },
  {
   "cell_type": "markdown",
   "metadata": {},
   "source": [
    "3. Гистограмма распределения случайной суммы"
   ]
  },
  {
   "cell_type": "code",
   "execution_count": 58,
   "metadata": {},
   "outputs": [
    {
     "data": {
      "text/plain": [
       "<function matplotlib.pyplot.show(*args, **kw)>"
      ]
     },
     "execution_count": 58,
     "metadata": {},
     "output_type": "execute_result"
    },
    {
     "data": {
      "image/png": "[encoded data removed]",
      "text/plain": [
       "<Figure size 432x288 with 1 Axes>"
      ]
     },
     "metadata": {
      "needs_background": "light"
     },
     "output_type": "display_data"
    }
   ],
   "source": [
    "import matplotlib.pyplot as plt\n",
    "x_list = []\n",
    "for i in range(10):\n",
    "    x = np.random.rand(10)\n",
    "    x_list.append(sum(x))\n",
    "num_bins = 5\n",
    "plt.hist(x_list, num_bins)\n",
    "plt.show"
   ]
  },
  {
   "cell_type": "markdown",
   "metadata": {},
   "source": [
    "4. Дополните код Монте-Карло последовательности независимых испытаний расчетом соответствующих вероятностей (через биномиальное распределение) \n",
    "и сравните результаты."
   ]
  },
  {
   "cell_type": "code",
   "execution_count": 76,
   "metadata": {},
   "outputs": [
    {
     "name": "stdout",
     "output_type": "stream",
     "text": [
      "37491 100000 0.37491\n"
     ]
    }
   ],
   "source": [
    "k, n = 0, 100000\n",
    "a = np.random.randint(0, 2, n)\n",
    "b = np.random.randint(0, 2, n)\n",
    "c = np.random.randint(0, 2, n)\n",
    "d = np.random.randint(0, 2, n)\n",
    "x = a + b + c + d\n",
    "for i in range(n):\n",
    "    if x[i] == 2:\n",
    "        k += 1\n",
    "# print(a, b, c, d)\n",
    "# print(x)\n",
    "print(k, n, k/n)"
   ]
  },
  {
   "cell_type": "markdown",
   "metadata": {},
   "source": [
    "вероятность, что в 4 испытаниях будет выпадать 2 орла и 2 решки"
   ]
  },
  {
   "cell_type": "markdown",
   "metadata": {},
   "source": [
    "p = Ckn*1/(2**2)*(1/(2**(4-2)))\n",
    "Ckn = n! / k!(n-k)!"
   ]
  },
  {
   "cell_type": "code",
   "execution_count": 61,
   "metadata": {},
   "outputs": [
    {
     "data": {
      "text/plain": [
       "24"
      ]
     },
     "execution_count": 61,
     "metadata": {},
     "output_type": "execute_result"
    }
   ],
   "source": [
    "import math\n",
    "math.factorial(4)"
   ]
  },
  {
   "cell_type": "code",
   "execution_count": 71,
   "metadata": {},
   "outputs": [
    {
     "data": {
      "text/plain": [
       "0.375"
      ]
     },
     "execution_count": 71,
     "metadata": {},
     "output_type": "execute_result"
    }
   ],
   "source": [
    "Ckn = math.factorial(4)/(math.factorial(2)*math.factorial(4-2))\n",
    "p = Ckn *((1/2)**2)*((1/2)**2)\n",
    "p"
   ]
  }
 ],
 "metadata": {
  "kernelspec": {
   "display_name": "Python 3",
   "language": "python",
   "name": "python3"
  },
  "language_info": {
   "codemirror_mode": {
    "name": "ipython",
    "version": 3
   },
   "file_extension": ".py",
   "mimetype": "text/x-python",
   "name": "python",
   "nbconvert_exporter": "python",
   "pygments_lexer": "ipython3",
   "version": "3.7.3"
  }
 },
 "nbformat": 4,
 "nbformat_minor": 2
}
